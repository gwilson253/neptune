{
 "cells": [
  {
   "cell_type": "markdown",
   "metadata": {},
   "source": [
    "# Push Lambda Deployment Package to S3\n",
    "The AWS Lambda function used by this program has package dependencies that aren't included in the AWS Lambda SDK. The .zip deployment package for the Neptune app was built using the [virtual environment method](https://docs.aws.amazon.com/lambda/latest/dg/lambda-python-how-to-create-deployment-package.html#python-package-venv) listed on the AWS documentation for [Lambda Deployment Package in Python](https://docs.aws.amazon.com/lambda/latest/dg/lambda-python-how-to-create-deployment-package.html)."
   ]
  },
  {
   "cell_type": "code",
   "execution_count": 22,
   "metadata": {},
   "outputs": [
    {
     "data": {
      "text/plain": [
       "{'ResponseMetadata': {'RequestId': 'BDD3E8A5C3B27147',\n",
       "  'HostId': 'WtwNsNmZerkf+ke5Car1Qo5M15c5vZvkMqFDcAQO6NxAs3AXEbM27pliedmZ/j2rb8pm3TUa7Zw=',\n",
       "  'HTTPStatusCode': 200,\n",
       "  'HTTPHeaders': {'x-amz-id-2': 'WtwNsNmZerkf+ke5Car1Qo5M15c5vZvkMqFDcAQO6NxAs3AXEbM27pliedmZ/j2rb8pm3TUa7Zw=',\n",
       "   'x-amz-request-id': 'BDD3E8A5C3B27147',\n",
       "   'date': 'Fri, 06 Sep 2019 20:25:24 GMT',\n",
       "   'etag': '\"1ec4555f457e28ed45f859c3ff9f777f\"',\n",
       "   'content-length': '0',\n",
       "   'server': 'AmazonS3'},\n",
       "  'RetryAttempts': 1},\n",
       " 'ETag': '\"1ec4555f457e28ed45f859c3ff9f777f\"'}"
      ]
     },
     "execution_count": 22,
     "metadata": {},
     "output_type": "execute_result"
    }
   ],
   "source": [
    "import os\n",
    "import boto3\n",
    "\n",
    "session = boto3.Session(aws_access_key_id=os.getenv('AWS_ADMIN_ACCESS'),\n",
    "                        aws_secret_access_key=os.getenv('AWS_ADMIN_SECRET'))\n",
    "\n",
    "s3 = session.resource('s3')\n",
    "\n",
    "bucket = 'gwilson253awsprojects'\n",
    "key = 'neptune/lambda_function.zip'\n",
    "f = os.path.join(os.getcwd(), '..', 'neptune_lambda', 'function.zip')\n",
    "\n",
    "s3.Object(bucket,key).put(Body=open(f, 'rb'))"
   ]
  }
 ],
 "metadata": {
  "kernelspec": {
   "display_name": "Python 3",
   "language": "python",
   "name": "python3"
  },
  "language_info": {
   "codemirror_mode": {
    "name": "ipython",
    "version": 3
   },
   "file_extension": ".py",
   "mimetype": "text/x-python",
   "name": "python",
   "nbconvert_exporter": "python",
   "pygments_lexer": "ipython3",
   "version": "3.7.1"
  }
 },
 "nbformat": 4,
 "nbformat_minor": 2
}
