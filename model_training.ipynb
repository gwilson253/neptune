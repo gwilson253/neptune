{
 "cells": [
  {
   "cell_type": "markdown",
   "metadata": {},
   "source": [
    "# Model Training\n",
    "The purpose of this script is simply to create a functional machine learning model that can be serialized for reuse. I'm incorporating sklearn's pipeline and gridsearch utilities.\n",
    "\n",
    "This model uses sklearn's [wine](https://scikit-learn.org/stable/modules/generated/sklearn.datasets.load_wine.html#sklearn.datasets.load_wine) dataset.\n",
    "\n",
    "## Helpful references\n",
    "* [sklearn: Selecting dimensionality reduction with Pipeline and GridSearchCV](https://scikit-learn.org/stable/auto_examples/compose/plot_compare_reduction.html)\n",
    "* [sklearn: Putting it all together](https://scikit-learn.org/stable/tutorial/statistical_inference/putting_together.html)\n",
    "* [Importance of feature scaling](https://scikit-learn.org/stable/auto_examples/preprocessing/plot_scaling_importance.html#sphx-glr-auto-examples-preprocessing-plot-scaling-importance-py)\n",
    "\n",
    "## Documentation\n",
    "* [sklearn: SelectKBest](https://scikit-learn.org/stable/modules/generated/sklearn.feature_selection.SelectKBest.html)\n",
    "* [sklearn: RandomForestClassifier](https://scikit-learn.org/stable/modules/generated/sklearn.ensemble.RandomForestClassifier.html)\n",
    "* [sklearn: Pipeline](https://scikit-learn.org/stable/modules/generated/sklearn.pipeline.Pipeline.html)\n",
    "* [sklearn: GridSearchCV](https://scikit-learn.org/stable/modules/generated/sklearn.model_selection.GridSearchCV.html)\n",
    "* [sklearn: Normalizer](https://scikit-learn.org/stable/modules/generated/sklearn.preprocessing.Normalizer.html#sklearn.preprocessing.Normalizer)"
   ]
  },
  {
   "cell_type": "code",
   "execution_count": 1,
   "metadata": {},
   "outputs": [],
   "source": [
    "from sklearn.datasets import load_wine\n",
    "from sklearn.preprocessing import Normalizer\n",
    "from sklearn.ensemble import RandomForestClassifier\n",
    "from sklearn.pipeline import Pipeline\n",
    "from sklearn.feature_selection import SelectKBest, chi2\n",
    "from sklearn.model_selection import GridSearchCV, train_test_split\n",
    "from sklearn.metrics import classification_report, accuracy_score, f1_score\n",
    "\n",
    "features, target = load_wine(return_X_y=True)\n",
    "\n",
    "X_train, X_test, y_train, y_test = train_test_split(features, target,\n",
    "                                                    test_size=0.30)"
   ]
  },
  {
   "cell_type": "code",
   "execution_count": 2,
   "metadata": {
    "scrolled": true
   },
   "outputs": [],
   "source": [
    "scaler = Normalizer()\n",
    "clf = RandomForestClassifier(n_estimators=100, min_samples_leaf=5)"
   ]
  },
  {
   "cell_type": "code",
   "execution_count": 3,
   "metadata": {},
   "outputs": [],
   "source": [
    "pipeline = Pipeline(steps=[('scaler', scaler),\n",
    "                           ('reduce_dim', SelectKBest(chi2)),\n",
    "                           ('clf', clf)])"
   ]
  },
  {
   "cell_type": "code",
   "execution_count": 4,
   "metadata": {},
   "outputs": [],
   "source": [
    "n_feature_options = [2, 4, 8, 10, 12]\n",
    "n_estimators_options = [10, 50, 100, 200]\n",
    "min_samples_leaf_options = [1, 2, 3, 4, 5, 6, 7, 8, 9, 10]\n",
    "param_grid = [\n",
    "    {\n",
    "        'reduce_dim__k': n_feature_options,\n",
    "        'clf__criterion': ['gini', 'entropy'],\n",
    "        'clf__n_estimators': n_estimators_options,\n",
    "        'clf__min_samples_leaf': min_samples_leaf_options\n",
    "    }\n",
    "]\n",
    "\n",
    "grid = GridSearchCV(pipeline, cv=5, param_grid=param_grid, iid=False)"
   ]
  },
  {
   "cell_type": "code",
   "execution_count": 5,
   "metadata": {},
   "outputs": [
    {
     "data": {
      "text/plain": [
       "GridSearchCV(cv=5, error_score='raise-deprecating',\n",
       "       estimator=Pipeline(memory=None,\n",
       "     steps=[('scaler', Normalizer(copy=True, norm='l2')), ('reduce_dim', SelectKBest(k=10, score_func=<function chi2 at 0x00000206F9AFB400>)), ('clf', RandomForestClassifier(bootstrap=True, class_weight=None, criterion='gini',\n",
       "            max_depth=None, max_features='auto', max_leaf_nodes=None,\n",
       "        ...obs=None,\n",
       "            oob_score=False, random_state=None, verbose=0,\n",
       "            warm_start=False))]),\n",
       "       fit_params=None, iid=False, n_jobs=None,\n",
       "       param_grid=[{'reduce_dim__k': [2, 4, 8, 10, 12], 'clf__criterion': ['gini', 'entropy'], 'clf__n_estimators': [10, 50, 100, 200], 'clf__min_samples_leaf': [1, 2, 3, 4, 5, 6, 7, 8, 9, 10]}],\n",
       "       pre_dispatch='2*n_jobs', refit=True, return_train_score='warn',\n",
       "       scoring=None, verbose=0)"
      ]
     },
     "execution_count": 5,
     "metadata": {},
     "output_type": "execute_result"
    }
   ],
   "source": [
    "grid.fit(X_train, y_train)"
   ]
  },
  {
   "cell_type": "code",
   "execution_count": 6,
   "metadata": {},
   "outputs": [
    {
     "data": {
      "text/plain": [
       "{'clf__criterion': 'entropy',\n",
       " 'clf__min_samples_leaf': 1,\n",
       " 'clf__n_estimators': 200,\n",
       " 'reduce_dim__k': 12}"
      ]
     },
     "execution_count": 6,
     "metadata": {},
     "output_type": "execute_result"
    }
   ],
   "source": [
    "grid.best_params_"
   ]
  },
  {
   "cell_type": "code",
   "execution_count": 7,
   "metadata": {},
   "outputs": [
    {
     "name": "stdout",
     "output_type": "stream",
     "text": [
      "accuracy_score: 0.9259259259259259\n",
      "f1_score: 0.9258020562368388\n",
      "              precision    recall  f1-score   support\n",
      "\n",
      "           0       0.92      1.00      0.96        11\n",
      "           1       0.88      0.95      0.91        22\n",
      "           2       1.00      0.86      0.92        21\n",
      "\n",
      "   micro avg       0.93      0.93      0.93        54\n",
      "   macro avg       0.93      0.94      0.93        54\n",
      "weighted avg       0.93      0.93      0.93        54\n",
      "\n"
     ]
    }
   ],
   "source": [
    "y_pred = grid.predict(X_test)\n",
    "print('accuracy_score:', accuracy_score(y_test, y_pred))\n",
    "print('f1_score:', f1_score(y_test, y_pred, average='weighted'))\n",
    "print(classification_report(y_test, y_pred))"
   ]
  },
  {
   "cell_type": "markdown",
   "metadata": {},
   "source": [
    "## Upload serialized model to S3"
   ]
  },
  {
   "cell_type": "code",
   "execution_count": 8,
   "metadata": {
    "scrolled": true
   },
   "outputs": [
    {
     "data": {
      "text/plain": [
       "{'ResponseMetadata': {'RequestId': '35F79263250A271E',\n",
       "  'HostId': 'E6muT6bP9awIwuq4FXrgIvx7bzU1RY+HguBEhGyodu8JlOhKSUwPlt/Xm0Ta8DakvMTw/J9enoM=',\n",
       "  'HTTPStatusCode': 200,\n",
       "  'HTTPHeaders': {'x-amz-id-2': 'E6muT6bP9awIwuq4FXrgIvx7bzU1RY+HguBEhGyodu8JlOhKSUwPlt/Xm0Ta8DakvMTw/J9enoM=',\n",
       "   'x-amz-request-id': '35F79263250A271E',\n",
       "   'date': 'Sun, 30 Jun 2019 21:37:24 GMT',\n",
       "   'etag': '\"ed9440c442632621b608521b3f2650b8\"',\n",
       "   'content-length': '0',\n",
       "   'server': 'AmazonS3'},\n",
       "  'RetryAttempts': 1},\n",
       " 'ETag': '\"ed9440c442632621b608521b3f2650b8\"'}"
      ]
     },
     "execution_count": 8,
     "metadata": {},
     "output_type": "execute_result"
    }
   ],
   "source": [
    "import os\n",
    "import boto3\n",
    "import pickle\n",
    "\n",
    "session = boto3.Session(aws_access_key_id=os.getenv('AWS_ADMIN_ACCESS'),\n",
    "                        aws_secret_access_key=os.getenv('AWS_ADMIN_SECRET'))\n",
    "\n",
    "s3 = session.resource('s3')\n",
    "\n",
    "bytes_obj = pickle.dumps('foo')\n",
    "\n",
    "bucket = 'gwilson253awsprojects'\n",
    "key = 'neptune/wine_model.pkl'\n",
    "\n",
    "s3.Object(bucket,key).put(Body=bytes_obj)"
   ]
  }
 ],
 "metadata": {
  "kernelspec": {
   "display_name": "Python 3",
   "language": "python",
   "name": "python3"
  },
  "language_info": {
   "codemirror_mode": {
    "name": "ipython",
    "version": 3
   },
   "file_extension": ".py",
   "mimetype": "text/x-python",
   "name": "python",
   "nbconvert_exporter": "python",
   "pygments_lexer": "ipython3",
   "version": "3.7.1"
  }
 },
 "nbformat": 4,
 "nbformat_minor": 2
}
