{
 "cells": [
  {
   "cell_type": "markdown",
   "metadata": {},
   "source": [
    "# Model Training\n",
    "The purpose of this script is simply to create a functional machine learning model that can be serialized for reuse. I'm incorporating sklearn's pipeline and gridsearch utilities.\n",
    "\n",
    "This model uses sklearn's [wine](https://scikit-learn.org/stable/modules/generated/sklearn.datasets.load_wine.html#sklearn.datasets.load_wine) dataset.\n",
    "\n",
    "## Helpful references\n",
    "* [sklearn: Selecting dimensionality reduction with Pipeline and GridSearchCV](https://scikit-learn.org/stable/auto_examples/compose/plot_compare_reduction.html)\n",
    "* [sklearn: Putting it all together](https://scikit-learn.org/stable/tutorial/statistical_inference/putting_together.html)\n",
    "* [Importance of feature scaling](https://scikit-learn.org/stable/auto_examples/preprocessing/plot_scaling_importance.html#sphx-glr-auto-examples-preprocessing-plot-scaling-importance-py)\n",
    "\n",
    "## Documentation\n",
    "* [sklearn: SelectKBest](https://scikit-learn.org/stable/modules/generated/sklearn.feature_selection.SelectKBest.html)\n",
    "* [sklearn: RandomForestClassifier](https://scikit-learn.org/stable/modules/generated/sklearn.ensemble.RandomForestClassifier.html)\n",
    "* [sklearn: Pipeline](https://scikit-learn.org/stable/modules/generated/sklearn.pipeline.Pipeline.html)\n",
    "* [sklearn: GridSearchCV](https://scikit-learn.org/stable/modules/generated/sklearn.model_selection.GridSearchCV.html)\n",
    "* [sklearn: Normalizer](https://scikit-learn.org/stable/modules/generated/sklearn.preprocessing.Normalizer.html#sklearn.preprocessing.Normalizer)"
   ]
  },
  {
   "cell_type": "code",
   "execution_count": 4,
   "metadata": {},
   "outputs": [],
   "source": [
    "from sklearn.datasets import load_wine\n",
    "from sklearn.preprocessing import StandardScaler\n",
    "from sklearn.ensemble import RandomForestClassifier\n",
    "from sklearn.pipeline import Pipeline\n",
    "from sklearn.feature_selection import SelectKBest, chi2\n",
    "from sklearn.model_selection import GridSearchCV, train_test_split\n",
    "from sklearn.metrics import classification_report, accuracy_score, f1_score\n",
    "\n",
    "features, target = load_wine(return_X_y=True)\n",
    "\n",
    "X_train, X_test, y_train, y_test = train_test_split(features, target,\n",
    "                                                    test_size=0.30)"
   ]
  },
  {
   "cell_type": "code",
   "execution_count": 5,
   "metadata": {
    "scrolled": true
   },
   "outputs": [],
   "source": [
    "scaler = Normalizer()\n",
    "clf = RandomForestClassifier(n_estimators=100, min_samples_leaf=5)"
   ]
  },
  {
   "cell_type": "code",
   "execution_count": 6,
   "metadata": {},
   "outputs": [],
   "source": [
    "pipeline = Pipeline(steps=[('reduce_dim', SelectKBest(chi2)),\n",
    "                           ('scaler', scaler),\n",
    "                           ('clf', clf)])"
   ]
  },
  {
   "cell_type": "code",
   "execution_count": 7,
   "metadata": {},
   "outputs": [],
   "source": [
    "n_feature_options = [2, 4, 8, 10, 12]\n",
    "n_estimators_options = [10, 50, 100, 200]\n",
    "min_samples_leaf_options = [1, 2, 3, 4, 5, 6, 7, 8, 9, 10]\n",
    "param_grid = [\n",
    "    {\n",
    "        'reduce_dim__k': n_feature_options,\n",
    "        'clf__criterion': ['gini', 'entropy'],\n",
    "        'clf__n_estimators': n_estimators_options,\n",
    "        'clf__min_samples_leaf': min_samples_leaf_options\n",
    "    }\n",
    "]\n",
    "\n",
    "grid = GridSearchCV(pipeline, cv=5, param_grid=param_grid, iid=False)"
   ]
  },
  {
   "cell_type": "code",
   "execution_count": 8,
   "metadata": {},
   "outputs": [
    {
     "data": {
      "text/plain": [
       "GridSearchCV(cv=5, error_score='raise-deprecating',\n",
       "             estimator=Pipeline(memory=None,\n",
       "                                steps=[('reduce_dim',\n",
       "                                        SelectKBest(k=10,\n",
       "                                                    score_func=<function chi2 at 0x000002527F5A01E0>)),\n",
       "                                       ('scaler',\n",
       "                                        Normalizer(copy=True, norm='l2')),\n",
       "                                       ('clf',\n",
       "                                        RandomForestClassifier(bootstrap=True,\n",
       "                                                               class_weight=None,\n",
       "                                                               criterion='gini',\n",
       "                                                               max_depth=None,\n",
       "                                                               max_features='auto',\n",
       "                                                               max_leaf_nodes=None,\n",
       "                                                               min_i...\n",
       "                                                               n_jobs=None,\n",
       "                                                               oob_score=False,\n",
       "                                                               random_state=None,\n",
       "                                                               verbose=0,\n",
       "                                                               warm_start=False))],\n",
       "                                verbose=False),\n",
       "             iid=False, n_jobs=None,\n",
       "             param_grid=[{'clf__criterion': ['gini', 'entropy'],\n",
       "                          'clf__min_samples_leaf': [1, 2, 3, 4, 5, 6, 7, 8, 9,\n",
       "                                                    10],\n",
       "                          'clf__n_estimators': [10, 50, 100, 200],\n",
       "                          'reduce_dim__k': [2, 4, 8, 10, 12]}],\n",
       "             pre_dispatch='2*n_jobs', refit=True, return_train_score=False,\n",
       "             scoring=None, verbose=0)"
      ]
     },
     "execution_count": 8,
     "metadata": {},
     "output_type": "execute_result"
    }
   ],
   "source": [
    "grid.fit(X_train, y_train)"
   ]
  },
  {
   "cell_type": "code",
   "execution_count": 9,
   "metadata": {},
   "outputs": [
    {
     "data": {
      "text/plain": [
       "{'clf__criterion': 'gini',\n",
       " 'clf__min_samples_leaf': 1,\n",
       " 'clf__n_estimators': 50,\n",
       " 'reduce_dim__k': 10}"
      ]
     },
     "execution_count": 9,
     "metadata": {},
     "output_type": "execute_result"
    }
   ],
   "source": [
    "grid.best_params_"
   ]
  },
  {
   "cell_type": "code",
   "execution_count": 10,
   "metadata": {},
   "outputs": [
    {
     "name": "stdout",
     "output_type": "stream",
     "text": [
      "accuracy_score: 0.9259259259259259\n",
      "f1_score: 0.9253747795414462\n",
      "              precision    recall  f1-score   support\n",
      "\n",
      "           0       0.93      0.82      0.87        17\n",
      "           1       0.86      0.95      0.90        20\n",
      "           2       1.00      1.00      1.00        17\n",
      "\n",
      "    accuracy                           0.93        54\n",
      "   macro avg       0.93      0.92      0.93        54\n",
      "weighted avg       0.93      0.93      0.93        54\n",
      "\n"
     ]
    }
   ],
   "source": [
    "y_pred = grid.predict(X_test)\n",
    "print('accuracy_score:', accuracy_score(y_test, y_pred))\n",
    "print('f1_score:', f1_score(y_test, y_pred, average='weighted'))\n",
    "print(classification_report(y_test, y_pred))"
   ]
  },
  {
   "cell_type": "markdown",
   "metadata": {},
   "source": [
    "# GridSearchCV Introspection\n",
    "We'll need to see which features were selected by the model in order to use it for future prediction."
   ]
  },
  {
   "cell_type": "code",
   "execution_count": 11,
   "metadata": {},
   "outputs": [
    {
     "name": "stdout",
     "output_type": "stream",
     "text": [
      "< included >\n",
      "alcohol\n",
      "malic_acid\n",
      "alcalinity_of_ash\n",
      "magnesium\n",
      "total_phenols\n",
      "flavanoids\n",
      "proanthocyanins\n",
      "color_intensity\n",
      "od280/od315_of_diluted_wines\n",
      "proline\n",
      "\n",
      "< excluded >\n",
      "ash\n",
      "nonflavanoid_phenols\n",
      "hue\n"
     ]
    }
   ],
   "source": [
    "features = load_wine().feature_names\n",
    "selected = grid.best_estimator_.named_steps['reduce_dim'].get_support()\n",
    "\n",
    "print('< included >')\n",
    "for f, s in zip(features, selected):\n",
    "    if s:\n",
    "        print(f)\n",
    "        \n",
    "print('\\n< excluded >')\n",
    "for f, s in zip(features, selected):\n",
    "    if not s:\n",
    "        print(f)"
   ]
  },
  {
   "cell_type": "markdown",
   "metadata": {},
   "source": [
    "## Upload serialized model to S3"
   ]
  },
  {
   "cell_type": "code",
   "execution_count": 12,
   "metadata": {
    "scrolled": true
   },
   "outputs": [
    {
     "data": {
      "text/plain": [
       "{'ResponseMetadata': {'RequestId': 'B480EF1CE15D1B83',\n",
       "  'HostId': 'VtqThZIGC78yWIjjanADjv81bygeKfjSkWns5PxnOYv+8efSubhIbKl6KvtMqJgBha52GhqLff0=',\n",
       "  'HTTPStatusCode': 200,\n",
       "  'HTTPHeaders': {'x-amz-id-2': 'VtqThZIGC78yWIjjanADjv81bygeKfjSkWns5PxnOYv+8efSubhIbKl6KvtMqJgBha52GhqLff0=',\n",
       "   'x-amz-request-id': 'B480EF1CE15D1B83',\n",
       "   'date': 'Wed, 17 Jul 2019 21:01:55 GMT',\n",
       "   'etag': '\"f772bc40fc2f01699373bc5131e7fc94\"',\n",
       "   'content-length': '0',\n",
       "   'server': 'AmazonS3'},\n",
       "  'RetryAttempts': 1},\n",
       " 'ETag': '\"f772bc40fc2f01699373bc5131e7fc94\"'}"
      ]
     },
     "execution_count": 12,
     "metadata": {},
     "output_type": "execute_result"
    }
   ],
   "source": [
    "import os\n",
    "import boto3\n",
    "import pickle\n",
    "\n",
    "session = boto3.Session(aws_access_key_id=os.getenv('AWS_ADMIN_ACCESS'),\n",
    "                        aws_secret_access_key=os.getenv('AWS_ADMIN_SECRET'))\n",
    "\n",
    "s3 = session.resource('s3')\n",
    "\n",
    "bytes_obj = pickle.dumps(grid.best_estimator_, protocol=pickle.HIGHEST_PROTOCOL)\n",
    "\n",
    "bucket = 'gwilson253awsprojects'\n",
    "key = 'neptune/wine_model.pkl'\n",
    "\n",
    "s3.Object(bucket,key).put(Body=bytes_obj)"
   ]
  }
 ],
 "metadata": {
  "kernelspec": {
   "display_name": "Python 3",
   "language": "python",
   "name": "python3"
  },
  "language_info": {
   "codemirror_mode": {
    "name": "ipython",
    "version": 3
   },
   "file_extension": ".py",
   "mimetype": "text/x-python",
   "name": "python",
   "nbconvert_exporter": "python",
   "pygments_lexer": "ipython3",
   "version": "3.7.3"
  }
 },
 "nbformat": 4,
 "nbformat_minor": 2
}
